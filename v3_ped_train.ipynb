{
  "nbformat": 4,
  "nbformat_minor": 0,
  "metadata": {
    "colab": {
      "name": "v3 ped.ipynb",
      "provenance": [],
      "authorship_tag": "ABX9TyPQp+1peoExiUkhSobz9Nl4",
      "include_colab_link": true
    },
    "kernelspec": {
      "name": "python3",
      "display_name": "Python 3"
    },
    "accelerator": "GPU"
  },
  "cells": [
    {
      "cell_type": "markdown",
      "metadata": {
        "id": "view-in-github",
        "colab_type": "text"
      },
      "source": [
        "<a href=\"https://colab.research.google.com/github/faiyazfab/PEDESTRIANS-YOLOV3-DETECT/blob/main/v3_ped_train.ipynb\" target=\"_parent\"><img src=\"https://colab.research.google.com/assets/colab-badge.svg\" alt=\"Open In Colab\"/></a>"
      ]
    },
    {
      "cell_type": "code",
      "metadata": {
        "colab": {
          "base_uri": "https://localhost:8080/"
        },
        "id": "tkQZxbIiF_8r",
        "outputId": "e0935c57-7221-4981-8fe3-7fcc30f18be8"
      },
      "source": [
        "from google.colab import drive\r\n",
        "drive.mount('/content/gdrive', force_remount=True)"
      ],
      "execution_count": null,
      "outputs": [
        {
          "output_type": "stream",
          "text": [
            "Mounted at /content/gdrive\n"
          ],
          "name": "stdout"
        }
      ]
    },
    {
      "cell_type": "code",
      "metadata": {
        "colab": {
          "base_uri": "https://localhost:8080/"
        },
        "id": "0E6PUZbcHshx",
        "outputId": "b3750c6b-681e-470c-e5d1-9e35d900a694"
      },
      "source": [
        "!git clone https://github.com/AlexeyAB/darknet.git"
      ],
      "execution_count": null,
      "outputs": [
        {
          "output_type": "stream",
          "text": [
            "Cloning into 'darknet'...\n",
            "remote: Enumerating objects: 14691, done.\u001b[K\n",
            "remote: Total 14691 (delta 0), reused 0 (delta 0), pack-reused 14691\u001b[K\n",
            "Receiving objects: 100% (14691/14691), 13.25 MiB | 11.82 MiB/s, done.\n",
            "Resolving deltas: 100% (9994/9994), done.\n"
          ],
          "name": "stdout"
        }
      ]
    },
    {
      "cell_type": "code",
      "metadata": {
        "colab": {
          "base_uri": "https://localhost:8080/"
        },
        "id": "1uUdXXahH1f0",
        "outputId": "2d40ad35-27e6-48db-cfef-edfddd5f822a"
      },
      "source": [
        "%cd darknet\r\n",
        "!sed -i 's/OPENCV=0/OPENCV=1/' Makefile\r\n",
        "!sed -i 's/GPU=0/GPU=1/' Makefile\r\n",
        "!sed -i 's/CUDNN=0/CUDNN=1/' Makefile"
      ],
      "execution_count": null,
      "outputs": [
        {
          "output_type": "stream",
          "text": [
            "/content/darknet\n"
          ],
          "name": "stdout"
        }
      ]
    },
    {
      "cell_type": "code",
      "metadata": {
        "id": "8xUdBbgSH4KD"
      },
      "source": [
        "!make"
      ],
      "execution_count": null,
      "outputs": []
    },
    {
      "cell_type": "code",
      "metadata": {
        "id": "aZ8U-OpAH6H_"
      },
      "source": [
        "!cp cfg/yolov3.cfg cfg/yolov3_training.cfg"
      ],
      "execution_count": null,
      "outputs": []
    },
    {
      "cell_type": "code",
      "metadata": {
        "id": "8QHtsmM0IV4v"
      },
      "source": [
        "!sed -i 's/batch=1/batch=64/' cfg/yolov3_training.cfg\r\n",
        "!sed -i 's/subdivisions=1/subdivisions=16/' cfg/yolov3_training.cfg\r\n",
        "!sed -i 's/max_batches = 500200/max_batches = 2000/' cfg/yolov3_training.cfg\r\n",
        "!sed -i '610 s@classes=80@classes=1@' cfg/yolov3_training.cfg\r\n",
        "!sed -i '696 s@classes=80@classes=1@' cfg/yolov3_training.cfg\r\n",
        "!sed -i '783 s@classes=80@classes=1@' cfg/yolov3_training.cfg\r\n",
        "!sed -i '603 s@filters=255@filters=18@' cfg/yolov3_training.cfg\r\n",
        "!sed -i '689 s@filters=255@filters=18@' cfg/yolov3_training.cfg\r\n",
        "!sed -i '776 s@filters=255@filters=18@' cfg/yolov3_training.cfg"
      ],
      "execution_count": null,
      "outputs": []
    },
    {
      "cell_type": "code",
      "metadata": {
        "id": "OfCHXNA0IXuZ"
      },
      "source": [
        "!echo -e 'Pedestrian' > data/obj.names\r\n",
        "!echo -e 'classes= 1\\ntrain  = data/train.txt\\nvalid  = data/test.txt\\nnames = data/obj.names\\nbackup = /content/gdrive/MyDrive/yolov3' > data/obj.data"
      ],
      "execution_count": null,
      "outputs": []
    },
    {
      "cell_type": "code",
      "metadata": {
        "id": "kwRnYm4jId-a"
      },
      "source": [
        "!cp cfg/yolov3_training.cfg /content/gdrive/MyDrive/yolov3/yolov3_testing.cfg\r\n",
        "!cp data/obj.names /content/gdrive/MyDrive/yolov3/classes.txt"
      ],
      "execution_count": null,
      "outputs": []
    },
    {
      "cell_type": "code",
      "metadata": {
        "id": "77QvNbg5Iegw"
      },
      "source": [
        "!mkdir data/obj\r\n",
        "!unzip /content/gdrive/MyDrive/yolov3/images -d data/obj"
      ],
      "execution_count": null,
      "outputs": []
    },
    {
      "cell_type": "code",
      "metadata": {
        "id": "R1WkmPDiTLZI"
      },
      "source": [
        "import glob\r\n",
        "images_list = glob.glob(\"data/obj/*.png\")\r\n",
        "with open(\"data/train.txt\", \"w\") as f:\r\n",
        "    f.write(\"\\n\".join(images_list))"
      ],
      "execution_count": null,
      "outputs": []
    },
    {
      "cell_type": "code",
      "metadata": {
        "colab": {
          "base_uri": "https://localhost:8080/"
        },
        "id": "aK3p2a-_Tjeg",
        "outputId": "4c036656-2237-42c5-edda-fab629dac122"
      },
      "source": [
        "!wget https://pjreddie.com/media/files/darknet53.conv.74"
      ],
      "execution_count": null,
      "outputs": [
        {
          "output_type": "stream",
          "text": [
            "--2021-02-26 18:05:19--  https://pjreddie.com/media/files/darknet53.conv.74\n",
            "Resolving pjreddie.com (pjreddie.com)... 128.208.4.108\n",
            "Connecting to pjreddie.com (pjreddie.com)|128.208.4.108|:443... connected.\n",
            "HTTP request sent, awaiting response... 200 OK\n",
            "Length: 162482580 (155M) [application/octet-stream]\n",
            "Saving to: ‘darknet53.conv.74.6’\n",
            "\n",
            "darknet53.conv.74.6 100%[===================>] 154.96M  42.8MB/s    in 4.0s    \n",
            "\n",
            "2021-02-26 18:05:23 (38.9 MB/s) - ‘darknet53.conv.74.6’ saved [162482580/162482580]\n",
            "\n"
          ],
          "name": "stdout"
        }
      ]
    },
    {
      "cell_type": "code",
      "metadata": {
        "id": "LT8WjdzUTqKa"
      },
      "source": [
        "!./darknet detector train data/obj.data cfg/yolov3_training.cfg darknet53.conv.74 -dont_show"
      ],
      "execution_count": null,
      "outputs": []
    }
  ]
}